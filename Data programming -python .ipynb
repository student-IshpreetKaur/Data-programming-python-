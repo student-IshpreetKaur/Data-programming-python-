{
 "cells": [
  {
   "cell_type": "markdown",
   "id": "ebcb3fc8",
   "metadata": {},
   "source": [
    "# 1.- What data type is each of the following (evaluate where necessary)?\n",
    "5                                      -- Integer \n",
    "5.0                                    -- float\n",
    "5 > 1                                  -- boolean\n",
    "'5'                                    -- string\n",
    "5 * 2                                  -- integer\n",
    "'5' * 2                                -- string\n",
    "'5' + '2'                              -- string\n",
    "5 / 2                                  -- float\n",
    "5 % 2                                  -- integer\n",
    "{5, 2, 1}                              -- set\n",
    "5 == 3                                 -- boolean\n",
    "Pi (the number)                        -- float"
   ]
  },
  {
   "cell_type": "code",
   "execution_count": 1,
   "id": "209512fc",
   "metadata": {},
   "outputs": [
    {
     "name": "stdout",
     "output_type": "stream",
     "text": [
      "<class 'int'>\n"
     ]
    }
   ],
   "source": [
    "a=5\n",
    "print(type(a))"
   ]
  },
  {
   "cell_type": "code",
   "execution_count": 2,
   "id": "28cea4ef",
   "metadata": {},
   "outputs": [
    {
     "name": "stdout",
     "output_type": "stream",
     "text": [
      "<class 'float'>\n"
     ]
    }
   ],
   "source": [
    "a=5.0\n",
    "print(type(a))"
   ]
  },
  {
   "cell_type": "code",
   "execution_count": 3,
   "id": "e2facdfb",
   "metadata": {},
   "outputs": [
    {
     "data": {
      "text/plain": [
       "True"
      ]
     },
     "execution_count": 3,
     "metadata": {},
     "output_type": "execute_result"
    }
   ],
   "source": [
    "5>1"
   ]
  },
  {
   "cell_type": "code",
   "execution_count": 4,
   "id": "2e3542f8",
   "metadata": {},
   "outputs": [
    {
     "name": "stdout",
     "output_type": "stream",
     "text": [
      "<class 'str'>\n"
     ]
    }
   ],
   "source": [
    "a='5'\n",
    "print(type(a))"
   ]
  },
  {
   "cell_type": "code",
   "execution_count": 5,
   "id": "8b4d58ad",
   "metadata": {},
   "outputs": [
    {
     "data": {
      "text/plain": [
       "10"
      ]
     },
     "execution_count": 5,
     "metadata": {},
     "output_type": "execute_result"
    }
   ],
   "source": [
    "5*2"
   ]
  },
  {
   "cell_type": "code",
   "execution_count": 6,
   "id": "36811e63",
   "metadata": {},
   "outputs": [
    {
     "data": {
      "text/plain": [
       "'55'"
      ]
     },
     "execution_count": 6,
     "metadata": {},
     "output_type": "execute_result"
    }
   ],
   "source": [
    "'5'*2"
   ]
  },
  {
   "cell_type": "code",
   "execution_count": 7,
   "id": "03d29f8a",
   "metadata": {},
   "outputs": [
    {
     "data": {
      "text/plain": [
       "'52'"
      ]
     },
     "execution_count": 7,
     "metadata": {},
     "output_type": "execute_result"
    }
   ],
   "source": [
    "'5'+'2'"
   ]
  },
  {
   "cell_type": "code",
   "execution_count": 8,
   "id": "cd75342b",
   "metadata": {},
   "outputs": [
    {
     "data": {
      "text/plain": [
       "2.5"
      ]
     },
     "execution_count": 8,
     "metadata": {},
     "output_type": "execute_result"
    }
   ],
   "source": [
    "5/2"
   ]
  },
  {
   "cell_type": "code",
   "execution_count": 9,
   "id": "e7d44f4c",
   "metadata": {},
   "outputs": [
    {
     "data": {
      "text/plain": [
       "1"
      ]
     },
     "execution_count": 9,
     "metadata": {},
     "output_type": "execute_result"
    }
   ],
   "source": [
    "5%2"
   ]
  },
  {
   "cell_type": "code",
   "execution_count": 10,
   "id": "f679c18c",
   "metadata": {},
   "outputs": [
    {
     "name": "stdout",
     "output_type": "stream",
     "text": [
      "<class 'set'>\n"
     ]
    }
   ],
   "source": [
    "a={5,2,1}\n",
    "print(type(a))"
   ]
  },
  {
   "cell_type": "code",
   "execution_count": 11,
   "id": "1704fd1d",
   "metadata": {},
   "outputs": [
    {
     "data": {
      "text/plain": [
       "False"
      ]
     },
     "execution_count": 11,
     "metadata": {},
     "output_type": "execute_result"
    }
   ],
   "source": [
    "5==3"
   ]
  },
  {
   "cell_type": "code",
   "execution_count": 12,
   "id": "4f34f75f",
   "metadata": {},
   "outputs": [
    {
     "name": "stdout",
     "output_type": "stream",
     "text": [
      "<class 'float'>\n"
     ]
    }
   ],
   "source": [
    "import math\n",
    "print(type(math.pi))"
   ]
  },
  {
   "cell_type": "markdown",
   "id": "c20d61ee",
   "metadata": {},
   "source": [
    "# 2. Write (and evaluate) python expressions that answer these questions:\n",
    "a. How many letters are there in 'Supercalifragilisticexpialidocious'?\n",
    "b. Does 'Supercalifragilisticexpialidocious' contain 'ice' as a substring? \n",
    "c. Which of the following words is the longest:\n",
    "Supercalifragilisticexpialidocious, Honorificabilitudinitatibus, or\n",
    "Bababadalgharaghtakamminarronnkonn?\n",
    "d. Which composer comes first in the dictionary: 'Berlioz', 'Borodin', 'Brian',\n",
    "'Bartok', 'Bellini', 'Buxtehude', 'Bernstein'. Which one comes last?"
   ]
  },
  {
   "cell_type": "markdown",
   "id": "c0d0b971",
   "metadata": {},
   "source": [
    "a. How many letters are there in 'Supercalifragilisticexpialidocious'?"
   ]
  },
  {
   "cell_type": "code",
   "execution_count": 14,
   "id": "edd61f59",
   "metadata": {},
   "outputs": [
    {
     "name": "stdout",
     "output_type": "stream",
     "text": [
      "34\n"
     ]
    }
   ],
   "source": [
    "mystring = 'Supercalifragilisticexpialidocious'\n",
    "print(len(mystring))"
   ]
  },
  {
   "cell_type": "markdown",
   "id": "bc9f6110",
   "metadata": {},
   "source": [
    "b. Does 'Supercalifragilisticexpialidocious' contain 'ice' as a substring? "
   ]
  },
  {
   "cell_type": "code",
   "execution_count": 17,
   "id": "d20204e5",
   "metadata": {},
   "outputs": [
    {
     "name": "stdout",
     "output_type": "stream",
     "text": [
      "18\n"
     ]
    }
   ],
   "source": [
    "mystring = 'Supercalifragilisticexpialidocious' \n",
    "print(mystring.find(\"ice\"))"
   ]
  },
  {
   "cell_type": "markdown",
   "id": "490a3c67",
   "metadata": {},
   "source": [
    "c. Which of the following words is the longest:\n",
    "Supercalifragilisticexpialidocious, Honorificabilitudinitatibus, or\n",
    "Bababadalgharaghtakamminarronnkonn?"
   ]
  },
  {
   "cell_type": "code",
   "execution_count": 21,
   "id": "7bf6e527",
   "metadata": {},
   "outputs": [
    {
     "name": "stdout",
     "output_type": "stream",
     "text": [
      "longest word is :  Supercalifragilisticexpialidocious\n",
      "and its lenght is:  34\n"
     ]
    }
   ],
   "source": [
    "words = \"Supercalifragilisticexpialidocious  Honorificabilitudinitatibus Bababadalgharaghtakamminarronnkonn\"\n",
    "longest = max(words.split() ,key=len)\n",
    "print(\"longest word is : \", longest)\n",
    "print(\"and its lenght is: \",len(longest))"
   ]
  },
  {
   "cell_type": "markdown",
   "id": "a4947dfe",
   "metadata": {},
   "source": [
    "d. Which composer comes first in the dictionary: 'Berlioz', 'Borodin', 'Brian',\n",
    "'Bartok', 'Bellini', 'Buxtehude', 'Bernstein'. Which one comes last?"
   ]
  },
  {
   "cell_type": "code",
   "execution_count": 25,
   "id": "9a7b18df",
   "metadata": {},
   "outputs": [
    {
     "name": "stdout",
     "output_type": "stream",
     "text": [
      "['Bartok', 'Bellini', 'Berlioz', 'Bernstein', 'Borodin', 'Brian', 'Buxtehude']\n"
     ]
    }
   ],
   "source": [
    "composers =['Berlioz', 'Borodin', 'Brian','Bartok', 'Bellini', 'Buxtehude', 'Bernstein']\n",
    "composers.sort()\n",
    "print(composers)"
   ]
  },
  {
   "cell_type": "markdown",
   "id": "6c870a81",
   "metadata": {},
   "source": [
    "# 3. Implement function triangleArea(a,b,c) that takes as input the lengths of the \n",
    " 3 sides of a triangle and returns the area of the triangle. By Heron's formula, the area\n",
    "of a triangle with side lengths a, b, and c is\n",
    "s(s - a)(s -b)(s -c)\n",
    ", where\n",
    "s = (a+b+c)/2.\n",
    ">>> triangleArea(2,2,2)\n",
    "1.7320508075688772"
   ]
  },
  {
   "cell_type": "code",
   "execution_count": 32,
   "id": "42db3a32",
   "metadata": {},
   "outputs": [
    {
     "name": "stdout",
     "output_type": "stream",
     "text": [
      "the semi perimeter of traingle is 3.0\n",
      "the area of the triangle is 1.7320508075688772\n"
     ]
    }
   ],
   "source": [
    "a=2 \n",
    "b=2\n",
    "c=2\n",
    "s=(a+b+c)/2  #firstly calculate the semi-perimeter\n",
    "print(\"the semi perimeter of traingle is\",s)\n",
    "area=(s*(s-a)*(s-b)*(s-c))**0.5\n",
    "print(\"the area of the triangle is\",area)"
   ]
  },
  {
   "cell_type": "markdown",
   "id": "432c919a",
   "metadata": {},
   "source": [
    "# 4.Write a program in python to separate odd and even integers in separate arrays. Go to the editor\n",
    "Test Data :\n",
    "Input the number of elements to be stored in the array :5\n",
    "Input 5 elements in the array :\n",
    "element - 0 : 25\n",
    "element - 1 : 47\n",
    "element - 2 : 42\n",
    "element - 3 : 56\n",
    "element - 4 : 32\n",
    "Expected Output:\n",
    "The Even elements are:\n",
    "42 56 32\n",
    "The Odd elements are :\n",
    "25 47"
   ]
  },
  {
   "cell_type": "code",
   "execution_count": 37,
   "id": "1f3dd71b",
   "metadata": {},
   "outputs": [
    {
     "name": "stdout",
     "output_type": "stream",
     "text": [
      "Even elements are : [42, 56, 32]\n",
      "Odd elements are : [25, 47]\n"
     ]
    }
   ],
   "source": [
    "def splitevenodd(A):\n",
    "    even_numbers = []\n",
    "    odd_numbers  = []\n",
    "    for i in A:\n",
    "        if (i % 2 == 0):\n",
    "            even_numbers.append(i)\n",
    "        else:\n",
    "            odd_numbers.append(i)\n",
    "    print(\"Even elements are :\", even_numbers)\n",
    "    print(\"Odd elements are :\", odd_numbers)\n",
    "    \n",
    "A = [25,47,42,56,32]\n",
    "Split(A)"
   ]
  },
  {
   "cell_type": "markdown",
   "id": "f3603e8a",
   "metadata": {},
   "source": [
    "# Question 5\n",
    "a. Write a function inside(x,y,x1,y1,x2,y2) that returns True or False\n",
    "depending on whether the point (x,y) lies in the rectangle with lower left\n",
    "corner (x1,y1) and upper right corner (x2,y2).\n",
    ">>> inside(1,1,0,0,2,3)\n",
    "True\n",
    ">>> inside(-1,-1,0,0,2,3)\n",
    "False\n",
    "b. Use function inside() from part a. to write an expression that tests whether\n",
    "the point (1,1) lies in both of the following rectangles: one with lower left\n",
    "corner (0.3, 0.5) and upper right corner (1.1, 0.7) and the other with lower\n",
    "left corner (0.5, 0.2) and upper right corner (1.1, 2). "
   ]
  },
  {
   "cell_type": "code",
   "execution_count": 43,
   "id": "649a5fbf",
   "metadata": {},
   "outputs": [
    {
     "name": "stdout",
     "output_type": "stream",
     "text": [
      "False\n"
     ]
    }
   ],
   "source": [
    "def area(x1, y1, x2, y2, x3, y3):\n",
    "      \n",
    "    return abs((x1 * (y2 - y3) + \n",
    "                x2 * (y3 - y1) + \n",
    "                x3 * (y1 - y2)) / 2.0)\n",
    "  \n",
    "def check(x1, y1, x2, y2, x3, \n",
    "          y3, x4, y4, x, y):\n",
    "                \n",
    "# Calculate area of rectangle ABCD \n",
    "    A = (area(x1, y1, x2, y2, x3, y3) +\n",
    "         area(x1, y1, x4, y4, x3, y3))\n",
    "  \n",
    "    A1 = area(x, y, x1, y1, x2, y2)\n",
    "    A2 = area(x, y, x2, y2, x3, y3)\n",
    "    A3 = area(x, y, x3, y3, x4, y4)\n",
    "    A4 = area(x, y, x1, y1, x4, y4);\n",
    "    return (A == A1 + A2 + A3 + A4)\n",
    "  \n",
    "if __name__ == '__main__':\n",
    " \n",
    "    if (check(2,3,1,1,2,3,\n",
    "             -1,-1,0,0)):\n",
    "        print(\"True\")\n",
    "    else:\n",
    "        print(\"False\")\n",
    " "
   ]
  },
  {
   "cell_type": "code",
   "execution_count": 42,
   "id": "47a1d1f1",
   "metadata": {},
   "outputs": [
    {
     "name": "stdout",
     "output_type": "stream",
     "text": [
      "False\n"
     ]
    }
   ],
   "source": [
    "def area(x1, y1, x2, y2, x3, y3):\n",
    "      \n",
    "    return abs((x1 * (y2 - y3) + \n",
    "                x2 * (y3 - y1) + \n",
    "                x3 * (y1 - y2)) / 2.0)\n",
    "  \n",
    "def check(x1, y1, x2, y2, x3, \n",
    "          y3, x4, y4, x, y):\n",
    "                \n",
    "# Calculate area of rectangle ABCD \n",
    "    A = (area(x1, y1, x2, y2, x3, y3) +\n",
    "         area(x1, y1, x4, y4, x3, y3))\n",
    "  \n",
    "    A1 = area(x, y, x1, y1, x2, y2)\n",
    "    A2 = area(x, y, x2, y2, x3, y3)\n",
    "    A3 = area(x, y, x3, y3, x4, y4)\n",
    "    A4 = area(x, y, x1, y1, x4, y4);\n",
    "    return (A == A1 + A2 + A3 + A4)\n",
    "  \n",
    "if __name__ == '__main__':\n",
    " \n",
    "    if (check(1.1,0.7,0.5,0.2,\n",
    "             0.3,0.5,1.1,2,1,1)):\n",
    "        print(\"True\")\n",
    "    else:\n",
    "        print(\"False\")"
   ]
  }
 ],
 "metadata": {
  "kernelspec": {
   "display_name": "Python 3 (ipykernel)",
   "language": "python",
   "name": "python3"
  },
  "language_info": {
   "codemirror_mode": {
    "name": "ipython",
    "version": 3
   },
   "file_extension": ".py",
   "mimetype": "text/x-python",
   "name": "python",
   "nbconvert_exporter": "python",
   "pygments_lexer": "ipython3",
   "version": "3.10.1"
  }
 },
 "nbformat": 4,
 "nbformat_minor": 5
}
